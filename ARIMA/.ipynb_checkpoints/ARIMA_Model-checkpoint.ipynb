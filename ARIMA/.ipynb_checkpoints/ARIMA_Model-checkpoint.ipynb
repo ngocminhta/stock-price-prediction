{
 "cells": [
  {
   "cell_type": "code",
   "execution_count": null,
   "metadata": {
    "id": "0W-cFEu9QNrP"
   },
   "outputs": [],
   "source": [
    "from datetime import datetime\n",
    "import numpy as np\n",
    "import warnings\n",
    "warnings.filterwarnings('ignore')\n",
    "\n",
    "from statsmodels.tsa.arima.model import ARIMA\n",
    "from statsmodels.tsa.statespace.sarimax import SARIMAX\n",
    "from statsmodels.tsa.stattools import adfuller\n",
    "from statsmodels.tsa.seasonal import seasonal_decompose\n",
    "from statsmodels.graphics.tsaplots import plot_acf, plot_pacf\n",
    "from sklearn.metrics import mean_squared_error\n",
    "from pandas.plotting import autocorrelation_plot\n",
    "\n",
    "import pandas as pd\n",
    "import matplotlib.pyplot as plt\n",
    "import math\n",
    "import mplfinance as mpf\n",
    "from sklearn.preprocessing import MinMaxScaler, StandardScaler"
   ]
  },
  {
   "cell_type": "code",
   "execution_count": null,
   "metadata": {
    "id": "9Agxxf5eQw43"
   },
   "outputs": [],
   "source": [
    "# Load data\n",
    "df = pd.read_csv('C:/Users/Admin/Desktop/Capstone-Project-ML/Dataset/construction/PTC.csv', sep='\\t', index_col=6)\n",
    "close=df[['Close']]\n",
    "close.head(10)"
   ]
  },
  {
   "cell_type": "markdown",
   "metadata": {
    "id": "vV2QeLBgGRWL"
   },
   "source": [
    "**ARIMA MODEL**"
   ]
  },
  {
   "cell_type": "code",
   "execution_count": null,
   "metadata": {},
   "outputs": [],
   "source": [
    "close.plot(y='Close', subplots=True, figsize=(15, 8), fontsize=12)\n",
    "plt.xlabel('timestamp', fontsize=12)\n",
    "plt.ylabel('Close', fontsize=12)\n",
    "plt.show()\n",
    "\n",
    "# Load 300 data\n",
    "close[:300][['Close']].rename(columns={'Close':'train'}) \\\n",
    "    .plot(y=['train'], figsize=(15, 8), fontsize=12)\n",
    "plt.xlabel('timestamp', fontsize=12)\n",
    "plt.ylabel('Close', fontsize=12)\n",
    "plt.show()"
   ]
  },
  {
   "cell_type": "code",
   "execution_count": null,
   "metadata": {},
   "outputs": [],
   "source": [
    "plt.plot(close[:100].diff())"
   ]
  },
  {
   "cell_type": "markdown",
   "metadata": {},
   "source": [
    "**Create training and testing data sets**"
   ]
  },
  {
   "cell_type": "code",
   "execution_count": null,
   "metadata": {},
   "outputs": [],
   "source": [
    "n = int(len(df) * 0.7)\n",
    "m = int(len(df) * 0.7)\n",
    "\n",
    "df_train = close.copy()[:n][['Close']]\n",
    "df_test = close.copy()[m:][['Close']]\n",
    "\n",
    "print('Training data shape: ', df_train.shape)\n",
    "print('Test data shape: ', df_test.shape)\n",
    "\n",
    "plot_acf(df_train['Close'])\n",
    "plot_pacf(df_train['Close'])\n",
    "plt.show"
   ]
  },
  {
   "cell_type": "markdown",
   "metadata": {},
   "source": [
    "**Data prepatation**"
   ]
  },
  {
   "cell_type": "code",
   "execution_count": null,
   "metadata": {
    "scrolled": true
   },
   "outputs": [],
   "source": [
    "#SCALE TRAIN \n",
    "scaler=MinMaxScaler()\n",
    "df_train['Close']=scaler.fit_transform(df_train)\n",
    "\n",
    "close[:n][['Close']].rename(columns={'Close':'original trade close'}).plot.hist(bins=100, fontsize=12)\n",
    "df_train.rename(columns={'Close':'scaled trade close'}).plot.hist(bins=100, fontsize=12)\n",
    "plt.show()"
   ]
  },
  {
   "cell_type": "code",
   "execution_count": null,
   "metadata": {},
   "outputs": [],
   "source": [
    "# SCALE TEST\n",
    "df_test['Close'] = scaler.transform(df_test)\n",
    "df_test.head()"
   ]
  },
  {
   "cell_type": "markdown",
   "metadata": {},
   "source": [
    "**Implement ARIMA method**"
   ]
  },
  {
   "cell_type": "code",
   "execution_count": null,
   "metadata": {},
   "outputs": [],
   "source": [
    "# Specify the number of steps to forcast ahead\n",
    "HORIZON=6\n",
    "print('Forescating horizon:', HORIZON, 'days')"
   ]
  },
  {
   "cell_type": "code",
   "execution_count": null,
   "metadata": {},
   "outputs": [],
   "source": [
    "df_test_shifted = df_test.copy()\n",
    "\n",
    "for t in range(1, HORIZON):\n",
    "    df_test_shifted['Close+'+str(t)] = df_test_shifted['Close'].shift(-t)\n",
    "\n",
    "df_test_shifted=df_test_shifted.dropna(how='any')\n",
    "df_test_shifted.head(5)"
   ]
  },
  {
   "cell_type": "code",
   "execution_count": null,
   "metadata": {},
   "outputs": [],
   "source": [
    "order=(1,1,1)\n",
    "model=ARIMA(df_train,order=order)\n",
    "results=model.fit()\n",
    "\n",
    "print(results.summary())"
   ]
  },
  {
   "cell_type": "code",
   "execution_count": null,
   "metadata": {},
   "outputs": [],
   "source": [
    "from statsmodels.tsa.stattools import adfuller\n",
    "\n",
    "def check_stationarity(ts_data):\n",
    "    \n",
    "    # Q1 **********************Hoàn thành đoạn code sau đây*************\n",
    "    # Rolling statistics\n",
    "    roll_mean = ts_data.rolling(30, center=True, closed='both').mean()\n",
    "    roll_std = ts_data.rolling(5, center=True, closed='both').std()\n",
    "    #****************************************************************\n",
    "    \n",
    "    \n",
    "    # Plot rolling statistics\n",
    "    fig = plt.figure(figsize=(20,10))\n",
    "    plt.subplot(211)\n",
    "    plt.plot(ts_data, color='black', label='Original Data')\n",
    "    plt.plot(roll_mean, color='red', label='Rolling Mean(30 days)')\n",
    "    plt.legend()\n",
    "    plt.subplot(212)\n",
    "    plt.plot(roll_std, color='green', label='Rolling Std Dev(5 days)')\n",
    "    plt.legend()\n",
    "    \n",
    "    # Dickey-Fuller test\n",
    "    print('Dickey-Fuller test results\\n')\n",
    "    df_test = adfuller(ts_data, regresults=False)\n",
    "    test_result = pd.Series(df_test[0:4], index=['Test Statistic','p-value','# of lags','# of obs'])\n",
    "    print(test_result)\n",
    "    for k,v in df_test[4].items():\n",
    "        print('Critical value at %s: %1.5f' %(k,v))"
   ]
  },
  {
   "cell_type": "code",
   "execution_count": null,
   "metadata": {},
   "outputs": [],
   "source": [
    "df.index = pd.to_datetime(df.index, format=\"%Y-%M-%d\")\n",
    "df_final = pd.Series(df['Close'])\n",
    "type(df_final)"
   ]
  },
  {
   "cell_type": "code",
   "execution_count": null,
   "metadata": {},
   "outputs": [],
   "source": [
    "check_stationarity(df_final)"
   ]
  },
  {
   "cell_type": "markdown",
   "metadata": {},
   "source": [
    "$\\rightarrow$ Unstationaried data"
   ]
  },
  {
   "cell_type": "code",
   "execution_count": null,
   "metadata": {},
   "outputs": [],
   "source": [
    "df_final_diff = df_final - df_final.shift()"
   ]
  },
  {
   "cell_type": "code",
   "execution_count": null,
   "metadata": {},
   "outputs": [],
   "source": [
    "df_final_diff.dropna(inplace=True)\n",
    "check_stationarity(df_final_diff)"
   ]
  },
  {
   "cell_type": "markdown",
   "metadata": {},
   "source": [
    "$\\rightarrow$ Stationaried data"
   ]
  },
  {
   "cell_type": "markdown",
   "metadata": {},
   "source": [
    "**Evaluate the model**"
   ]
  },
  {
   "cell_type": "code",
   "execution_count": null,
   "metadata": {},
   "outputs": [],
   "source": [
    "training_window= 30 # dedicate 30 days for training\n",
    "\n",
    "train_ts=df_train['Close']\n",
    "test_ts=df_test_shifted\n",
    "\n",
    "history=[x for x in train_ts]\n",
    "history=history[(-training_window):]\n",
    "\n",
    "predictions=list()\n",
    "\n",
    "for i in range(test_ts.shape[0]):\n",
    "    model = ARIMA(history, order=order)\n",
    "    model_fit = model.fit()\n",
    "    output = model_fit.forecast(steps=HORIZON)\n",
    "    predictions.append(output)\n",
    "    obs=list(test_ts.iloc[i])\n",
    "    history.append(obs[0])\n",
    "    history.pop(0)"
   ]
  },
  {
   "cell_type": "code",
   "execution_count": null,
   "metadata": {},
   "outputs": [],
   "source": [
    "# evaluate forecasts\n",
    "rmse = math.sqrt(mean_squared_error(test_ts, predictions))\n",
    "print('Test RMSE: %.3f' % rmse)"
   ]
  },
  {
   "cell_type": "code",
   "execution_count": null,
   "metadata": {},
   "outputs": [],
   "source": [
    "eval_df = pd.DataFrame(predictions, columns=['t+'+str(t) for t in range(1, HORIZON+1)])\n",
    "eval_df['timestamp'] = df_test.index[0:len(df_test.index)-HORIZON+1]\n",
    "eval_df = pd.melt(eval_df, id_vars='timestamp', value_name='prediction', var_name='h')\n",
    "eval_df['actual'] = np.array(np.transpose(test_ts)).ravel()\n",
    "eval_df[['prediction', 'actual']] = scaler.inverse_transform(eval_df[['prediction', 'actual']])\n",
    "eval_df.head()"
   ]
  },
  {
   "cell_type": "code",
   "execution_count": null,
   "metadata": {
    "scrolled": true
   },
   "outputs": [],
   "source": [
    "if(HORIZON == 1):\n",
    "    ## Plotting single step forecast\n",
    "    eval_df.plot(x='timestamp', y=['actual', 'prediction'], style=['r', 'b'], figsize=(15, 8))\n",
    "\n",
    "else:\n",
    "    ## Plotting multi step forecast\n",
    "    plot_df = eval_df[(eval_df.h=='t+1')][['timestamp', 'actual']]\n",
    "    for t in range(1, HORIZON+1):\n",
    "        plot_df['t+'+str(t)] = eval_df[(eval_df.h=='t+'+str(t))]['prediction'].values\n",
    "\n",
    "    fig = plt.figure(figsize=(15, 8))\n",
    "    ax = plt.plot(plot_df['timestamp'], plot_df['actual'], color='red', linewidth=4.0)\n",
    "    ax = fig.add_subplot(111)\n",
    "    for t in range(1, HORIZON+1):\n",
    "        x = plot_df['timestamp'][(t-1):]\n",
    "        y = plot_df['t+'+str(t)][0:len(x)]\n",
    "        ax.plot(x, y, color='blue', linewidth=4*math.pow(.9,t), alpha=math.pow(0.8,t))\n",
    "    \n",
    "    ax.legend(loc='best')\n",
    "    \n",
    "plt.xlabel('timestamp', fontsize=12)\n",
    "plt.ylabel('Close', fontsize=12)\n",
    "plt.show()"
   ]
  },
  {
   "cell_type": "code",
   "execution_count": null,
   "metadata": {},
   "outputs": [],
   "source": []
  }
 ],
 "metadata": {
  "colab": {
   "authorship_tag": "ABX9TyOgWK+e/q6aKdpOhv62s0Kc",
   "collapsed_sections": [],
   "name": "ARIMAModel_2018_2019.ipynb",
   "provenance": []
  },
  "kernelspec": {
   "display_name": "Python 3 (ipykernel)",
   "language": "python",
   "name": "python3"
  },
  "language_info": {
   "codemirror_mode": {
    "name": "ipython",
    "version": 3
   },
   "file_extension": ".py",
   "mimetype": "text/x-python",
   "name": "python",
   "nbconvert_exporter": "python",
   "pygments_lexer": "ipython3",
   "version": "3.10.9"
  }
 },
 "nbformat": 4,
 "nbformat_minor": 1
}
